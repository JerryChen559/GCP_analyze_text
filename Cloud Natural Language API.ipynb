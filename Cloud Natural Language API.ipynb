{
 "cells": [
  {
   "cell_type": "code",
   "execution_count": null,
   "metadata": {},
   "outputs": [],
   "source": [
    "# Implement GCP ML API \n",
    "# use Natural Language API to extract entities"
   ]
  },
  {
   "cell_type": "code",
   "execution_count": 1,
   "metadata": {},
   "outputs": [],
   "source": [
    "# Cloud Natural Language API features\n",
    "\n",
    "#Syntax Analysis: \n",
    "#Extract tokens and sentences, identify parts of speech (PoS) and create dependency parse trees for each sentence.\n",
    "\n",
    "#Entity Recognition: \n",
    "#Identify entities and label by types such as person, organization, location, events, products and media.\n",
    "\n",
    "#Sentiment Analysis: \n",
    "#Understand the overall sentiment expressed in a block of text.\n",
    "\n",
    "#Content Classification: \n",
    "#Classify documents in predefined 700+ categories.\n",
    "\n",
    "#Multi-Language: \n",
    "#Enables you to easily analyze text in multiple languages including English, Spanish, Japanese, Chinese (Simplified and Traditional), French, German, Italian, Korean and Portuguese.\n",
    "\n",
    "#Integrated REST API: \n",
    "#Access via REST API. Text can be uploaded in the request or integrated with Google Cloud Storage."
   ]
  },
  {
   "cell_type": "code",
   "execution_count": null,
   "metadata": {},
   "outputs": [],
   "source": [
    "# connect your google cloud account"
   ]
  },
  {
   "cell_type": "code",
   "execution_count": null,
   "metadata": {},
   "outputs": [],
   "source": [
    "# connect to any existing project\n",
    "!gcloud init"
   ]
  },
  {
   "cell_type": "code",
   "execution_count": null,
   "metadata": {},
   "outputs": [],
   "source": [
    "# change project id each time you run.\n",
    "PROJECT_ID = 'your-gcp-project-name'\n",
    "BUCKET = PROJECT_ID"
   ]
  },
  {
   "cell_type": "code",
   "execution_count": null,
   "metadata": {},
   "outputs": [],
   "source": [
    "# obtain billing code and assign it down\n",
    "!gcloud beta billing accounts list"
   ]
  },
  {
   "cell_type": "code",
   "execution_count": null,
   "metadata": {},
   "outputs": [],
   "source": [
    "# if you get an error in this, make sure you copied the billing account properly from above. No quotes required.\n",
    "!gcloud beta billing projects link {PROJECT_ID} --billing-account <Account_Id xxxxxx-xxxxxx-xxxxxx>"
   ]
  },
  {
   "cell_type": "code",
   "execution_count": null,
   "metadata": {},
   "outputs": [],
   "source": [
    "# open cloud shell\n",
    "# check credentials\n",
    "gcloud auth list\n",
    "gcloud config list project"
   ]
  },
  {
   "cell_type": "code",
   "execution_count": null,
   "metadata": {},
   "outputs": [],
   "source": [
    "# Create an API Key"
   ]
  },
  {
   "cell_type": "code",
   "execution_count": null,
   "metadata": {},
   "outputs": [],
   "source": [
    "# set an environment variable with your PROJECT_ID which you will use throughout this notebook\n",
    "export GOOGLE_CLOUD_PROJECT=$(gcloud config get-value core/project)"
   ]
  },
  {
   "cell_type": "code",
   "execution_count": null,
   "metadata": {},
   "outputs": [],
   "source": [
    "# create a new service account to access the Natural Language API\n",
    "gcloud iam service-accounts create my-natlang-sa \\\n",
    "  --display-name \"my natural language service account\""
   ]
  },
  {
   "cell_type": "code",
   "execution_count": null,
   "metadata": {},
   "outputs": [],
   "source": [
    "# create credentials to log in as your new service account. \n",
    "# Create these credentials and save it as a JSON file \"~/key.json\"\n",
    "gcloud iam service-accounts keys create ~/key.json \\\n",
    "  --iam-account my-natlang-sa@${GOOGLE_CLOUD_PROJECT}.iam.gserviceaccount.com"
   ]
  },
  {
   "cell_type": "code",
   "execution_count": null,
   "metadata": {},
   "outputs": [],
   "source": [
    "# set the GOOGLE_APPLICATION_CREDENTIALS environment variable. \n",
    "# The environment variable should be set to the full path of the credentials JSON file you created\n",
    "export GOOGLE_APPLICATION_CREDENTIALS=\"/home/USER/key.json\""
   ]
  },
  {
   "cell_type": "code",
   "execution_count": null,
   "metadata": {},
   "outputs": [],
   "source": [
    "# Make an Entity Analysis Request"
   ]
  },
  {
   "cell_type": "code",
   "execution_count": null,
   "metadata": {},
   "outputs": [],
   "source": [
    "# SSH into your compute engine"
   ]
  },
  {
   "cell_type": "code",
   "execution_count": null,
   "metadata": {},
   "outputs": [],
   "source": [
    "# Natural Language API's entity analysis with the following sentence:\n",
    "# Michelangelo Caravaggio, Italian painter, is known for 'The Calling of Saint Matthew'\n",
    "gcloud ml language analyze-entities --content=\"Michelangelo Caravaggio, Italian painter, is known for 'The Calling of Saint Matthew'.\" > result.json"
   ]
  },
  {
   "cell_type": "code",
   "execution_count": null,
   "metadata": {},
   "outputs": [],
   "source": [
    "# preview the output of result.json file\n",
    "cat result.json"
   ]
  },
  {
   "cell_type": "code",
   "execution_count": null,
   "metadata": {},
   "outputs": [],
   "source": [
    "# For each \"entity\" in the response, you'll see:\n",
    "\n",
    "# The entity name and type, a person, location, event, etc.\n",
    "# metadata, an associated Wikipedia URL if there is one\n",
    "# salience, and the indices of where this entity appeared in the text. Salience is a number in the [0,1] range that refers to the centrality of the entity to the text as a whole.\n",
    "# mentions, which is the same entity mentioned in different ways."
   ]
  }
 ],
 "metadata": {
  "kernelspec": {
   "display_name": "Python 3",
   "language": "python",
   "name": "python3"
  },
  "language_info": {
   "codemirror_mode": {
    "name": "ipython",
    "version": 3
   },
   "file_extension": ".py",
   "mimetype": "text/x-python",
   "name": "python",
   "nbconvert_exporter": "python",
   "pygments_lexer": "ipython3",
   "version": "3.7.1"
  }
 },
 "nbformat": 4,
 "nbformat_minor": 2
}
